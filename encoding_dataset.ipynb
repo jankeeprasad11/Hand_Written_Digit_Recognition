{
 "cells": [
  {
   "cell_type": "code",
   "execution_count": 1,
   "id": "d5a13a75-7c21-4de2-bbe3-f4fddc7ee818",
   "metadata": {},
   "outputs": [],
   "source": [
    "import pickle\n",
    "import cv2\n",
    "import os"
   ]
  },
  {
   "cell_type": "code",
   "execution_count": 12,
   "id": "4bf0582d-a06a-4a97-ba62-3785edf9808e",
   "metadata": {},
   "outputs": [],
   "source": [
    "dataDir = 'Augmented_Data'"
   ]
  },
  {
   "cell_type": "code",
   "execution_count": 13,
   "id": "f93d1d12-bba6-4457-b046-7da62d1f5f42",
   "metadata": {},
   "outputs": [
    {
     "name": "stdout",
     "output_type": "stream",
     "text": [
      "True\n"
     ]
    }
   ],
   "source": [
    "if os.path.exists(dataDir):\n",
    "    print(\"True\")"
   ]
  },
  {
   "cell_type": "code",
   "execution_count": 14,
   "id": "577f744d-2371-4f52-ad7b-c3339535ffa6",
   "metadata": {},
   "outputs": [],
   "source": [
    "data:list = []\n",
    "label:list = []"
   ]
  },
  {
   "cell_type": "code",
   "execution_count": 15,
   "id": "be36c257-8e4e-476f-983b-8bb2b3b5d3fd",
   "metadata": {},
   "outputs": [
    {
     "name": "stdout",
     "output_type": "stream",
     "text": [
      "<class 'list'>\n",
      "['eight', 'five', 'four', 'nine', 'one', 'seven', 'six', 'three', 'two', 'zero']\n"
     ]
    }
   ],
   "source": [
    "dirs = os.listdir(dataDir)\n",
    "print(type(dirs))\n",
    "print(dirs)"
   ]
  },
  {
   "cell_type": "code",
   "execution_count": 33,
   "id": "0ab27657-02d5-411f-b878-9706baadcca1",
   "metadata": {},
   "outputs": [
    {
     "data": {
      "text/plain": [
       "'0.jpg'"
      ]
     },
     "execution_count": 33,
     "metadata": {},
     "output_type": "execute_result"
    }
   ],
   "source": [
    "img_path = os.listdir(os.path.join(dataDir,dirs[0]))\n",
    "img_path[0]"
   ]
  },
  {
   "cell_type": "code",
   "execution_count": 30,
   "id": "3a87b93d-fd59-47e9-9daa-94afd70f306e",
   "metadata": {},
   "outputs": [],
   "source": [
    "def readImage(img):\n",
    "    cv2.imshow(\"Frame\",img)\n",
    "    cv2.waitKey(0)\n",
    "    cv2.destroyAllWindows()"
   ]
  },
  {
   "cell_type": "code",
   "execution_count": 43,
   "id": "6efa1ad6-91cd-48a0-bbed-57cf2df98e3d",
   "metadata": {},
   "outputs": [],
   "source": [
    "imgPath = os.path.join(dataDir, dirs[0],img_path[0])\n",
    "img = cv2.imread(imgPath)\n",
    "img2 = cv2.imread(imgPath)\n",
    "img = cv2.cvtColor(img,cv2.COLOR_BGR2GRAY)\n",
    "\n"
   ]
  },
  {
   "cell_type": "code",
   "execution_count": 44,
   "id": "e9c49fb7-6336-4a47-8c8f-82724cce4476",
   "metadata": {},
   "outputs": [
    {
     "data": {
      "text/plain": [
       "(64, 64)"
      ]
     },
     "execution_count": 44,
     "metadata": {},
     "output_type": "execute_result"
    }
   ],
   "source": [
    "img.shape"
   ]
  },
  {
   "cell_type": "code",
   "execution_count": 46,
   "id": "821824fa-1ce0-428e-96f0-b0f94a073605",
   "metadata": {},
   "outputs": [
    {
     "data": {
      "text/plain": [
       "(64, 64, 3)"
      ]
     },
     "execution_count": 46,
     "metadata": {},
     "output_type": "execute_result"
    }
   ],
   "source": [
    "img2.shape"
   ]
  },
  {
   "cell_type": "code",
   "execution_count": 47,
   "id": "4612e9b5-0ef3-4696-b3d9-4bc8d510217e",
   "metadata": {},
   "outputs": [
    {
     "data": {
      "text/plain": [
       "array([[252, 254, 254, ..., 253, 254, 251],\n",
       "       [253, 255, 254, ..., 254, 249, 251],\n",
       "       [252, 254, 253, ..., 254, 250, 252],\n",
       "       ...,\n",
       "       [249, 255, 250, ..., 252, 251, 254],\n",
       "       [245, 253, 253, ..., 252, 255, 251],\n",
       "       [252, 253, 252, ..., 250, 252, 254]], dtype=uint8)"
      ]
     },
     "execution_count": 47,
     "metadata": {},
     "output_type": "execute_result"
    }
   ],
   "source": [
    "img"
   ]
  },
  {
   "cell_type": "code",
   "execution_count": 49,
   "id": "af017b99-7e51-41aa-8802-a61b0b11a256",
   "metadata": {},
   "outputs": [],
   "source": [
    "for dirs in os.listdir(dataDir):\n",
    "    dir_path = os.path.join(dataDir,dirs)\n",
    "    for img in os.listdir(dir_path):\n",
    "        img_path = os.path.join(dir_path,img)\n",
    "        img = cv2.imread(img_path)\n",
    "        img = cv2.cvtColor(img,cv2.COLOR_BGR2GRAY)\n",
    "        data.append(img)\n",
    "        label.append(dirs)"
   ]
  },
  {
   "cell_type": "code",
   "execution_count": 51,
   "id": "fca40a5e-3e34-4e77-ba59-1a5ab1d7c510",
   "metadata": {},
   "outputs": [],
   "source": [
    "f = open(\"data.pickle\",\"wb\")\n",
    "pickle.dump({'data':data, 'label':label},f)\n",
    "f.close()"
   ]
  },
  {
   "cell_type": "code",
   "execution_count": null,
   "id": "8c6a905f-a27a-4ef9-bf96-bd52209175d3",
   "metadata": {},
   "outputs": [],
   "source": []
  }
 ],
 "metadata": {
  "kernelspec": {
   "display_name": "Python 3 (ipykernel)",
   "language": "python",
   "name": "python3"
  },
  "language_info": {
   "codemirror_mode": {
    "name": "ipython",
    "version": 3
   },
   "file_extension": ".py",
   "mimetype": "text/x-python",
   "name": "python",
   "nbconvert_exporter": "python",
   "pygments_lexer": "ipython3",
   "version": "3.12.1"
  }
 },
 "nbformat": 4,
 "nbformat_minor": 5
}
